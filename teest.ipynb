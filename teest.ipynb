{
 "cells": [
  {
   "cell_type": "code",
   "execution_count": 1,
   "id": "418cbdb3",
   "metadata": {},
   "outputs": [],
   "source": [
    "import pandas as pd"
   ]
  },
  {
   "cell_type": "code",
   "execution_count": 3,
   "id": "8c944c48",
   "metadata": {},
   "outputs": [
    {
     "name": "stdout",
     "output_type": "stream",
     "text": [
      "<class 'pandas.core.frame.DataFrame'>\n",
      "RangeIndex: 40372 entries, 0 to 40371\n",
      "Data columns (total 2 columns):\n",
      " #   Column     Non-Null Count  Dtype \n",
      "---  ------     --------------  ----- \n",
      " 0   Sentiment  40372 non-null  int64 \n",
      " 1   Text       40371 non-null  object\n",
      "dtypes: int64(1), object(1)\n",
      "memory usage: 630.9+ KB\n"
     ]
    }
   ],
   "source": [
    "df=pd.read_csv(\"data/twitter.csv\")\n",
    "df.info()"
   ]
  },
  {
   "cell_type": "code",
   "execution_count": 4,
   "id": "d6faa2f8",
   "metadata": {},
   "outputs": [],
   "source": [
    "df = df.dropna(subset=[\"Text\"])\n",
    "\n",
    "# Pastikan kolom Sentiment adalah integer\n",
    "df[\"Sentiment\"] = df[\"Sentiment\"].astype(int)\n",
    "\n",
    "# Simpan kembali ke file CSV\n",
    "df.to_csv(\"data/twitter_clean.csv\", index=False)"
   ]
  },
  {
   "cell_type": "code",
   "execution_count": null,
   "id": "1059f20a",
   "metadata": {},
   "outputs": [],
   "source": []
  }
 ],
 "metadata": {
  "kernelspec": {
   "display_name": "tfx-env",
   "language": "python",
   "name": "python3"
  },
  "language_info": {
   "codemirror_mode": {
    "name": "ipython",
    "version": 3
   },
   "file_extension": ".py",
   "mimetype": "text/x-python",
   "name": "python",
   "nbconvert_exporter": "python",
   "pygments_lexer": "ipython3",
   "version": "3.10.0"
  }
 },
 "nbformat": 4,
 "nbformat_minor": 5
}
